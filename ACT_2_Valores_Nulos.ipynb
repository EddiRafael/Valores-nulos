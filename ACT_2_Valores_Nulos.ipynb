{
  "nbformat": 4,
  "nbformat_minor": 0,
  "metadata": {
    "colab": {
      "provenance": [],
      "include_colab_link": true
    },
    "kernelspec": {
      "name": "python3",
      "display_name": "Python 3"
    },
    "language_info": {
      "name": "python"
    }
  },
  "cells": [
    {
      "cell_type": "markdown",
      "metadata": {
        "id": "view-in-github",
        "colab_type": "text"
      },
      "source": [
        "<a href=\"https://colab.research.google.com/github/EddiRafael/Valores-nulos/blob/main/ACT_2_Valores_Nulos.ipynb\" target=\"_parent\"><img src=\"https://colab.research.google.com/assets/colab-badge.svg\" alt=\"Open In Colab\"/></a>"
      ]
    },
    {
      "cell_type": "markdown",
      "source": [
        "ACTIVIDAD 2 VALORES NULOS"
      ],
      "metadata": {
        "id": "w_OBWP6spKX8"
      }
    },
    {
      "cell_type": "code",
      "execution_count": null,
      "metadata": {
        "id": "2yVMOPdnniII"
      },
      "outputs": [],
      "source": [
        "#Importamos las librerias pandas, numpy y matplotlib respectivamente\n",
        "import pandas as pd\n",
        "import numpy as np\n",
        "import matplotlib.pyplot as plt"
      ]
    },
    {
      "cell_type": "code",
      "source": [
        "#Cargar archivo csv desde equipo\n",
        "from google.colab import files\n",
        "files.upload()"
      ],
      "metadata": {
        "id": "qdeCpDFgpDlq"
      },
      "execution_count": null,
      "outputs": []
    },
    {
      "cell_type": "code",
      "source": [
        "#Carga desde un archivo .csv sin indice\n",
        "data = pd.read_csv('Ventas_totales.csv')\n",
        "data.head(10)"
      ],
      "metadata": {
        "id": "r1RLJb4gqpld"
      },
      "execution_count": null,
      "outputs": []
    },
    {
      "cell_type": "code",
      "source": [
        "#Eliminar columnas innecesarias\n",
        "data1= data.drop(['articulos_limpieza_perfumeria' , \"ventas_totales_grupo_articulos\"], axis=1)\n",
        "data1"
      ],
      "metadata": {
        "id": "eCMWEHixrRlt"
      },
      "execution_count": null,
      "outputs": []
    },
    {
      "cell_type": "code",
      "source": [
        "#Identificar valores nulos por columna\n",
        "valores_nulos=data1.isnull().sum()\n",
        "valores_nulos"
      ],
      "metadata": {
        "id": "L8y5wGdxrXNd"
      },
      "execution_count": null,
      "outputs": []
    },
    {
      "cell_type": "code",
      "source": [
        "#Convertir DataFrame a CSV\n",
        "data1.to_csv(\"Ventas_totales_0.csv\")"
      ],
      "metadata": {
        "id": "3Htwn-OKxmT5"
      },
      "execution_count": null,
      "outputs": []
    },
    {
      "cell_type": "code",
      "source": [
        "#Descargar archivo filtrado a CSv\n",
        "from google.colab import files\n",
        "\n",
        "files.download(\"Ventas_totales_0.csv\")"
      ],
      "metadata": {
        "colab": {
          "base_uri": "https://localhost:8080/",
          "height": 17
        },
        "id": "dysaUtwax64y",
        "outputId": "29aa24a3-edc8-457a-fba7-6f144e42ee0e"
      },
      "execution_count": null,
      "outputs": [
        {
          "output_type": "display_data",
          "data": {
            "text/plain": [
              "<IPython.core.display.Javascript object>"
            ],
            "application/javascript": [
              "\n",
              "    async function download(id, filename, size) {\n",
              "      if (!google.colab.kernel.accessAllowed) {\n",
              "        return;\n",
              "      }\n",
              "      const div = document.createElement('div');\n",
              "      const label = document.createElement('label');\n",
              "      label.textContent = `Downloading \"${filename}\": `;\n",
              "      div.appendChild(label);\n",
              "      const progress = document.createElement('progress');\n",
              "      progress.max = size;\n",
              "      div.appendChild(progress);\n",
              "      document.body.appendChild(div);\n",
              "\n",
              "      const buffers = [];\n",
              "      let downloaded = 0;\n",
              "\n",
              "      const channel = await google.colab.kernel.comms.open(id);\n",
              "      // Send a message to notify the kernel that we're ready.\n",
              "      channel.send({})\n",
              "\n",
              "      for await (const message of channel.messages) {\n",
              "        // Send a message to notify the kernel that we're ready.\n",
              "        channel.send({})\n",
              "        if (message.buffers) {\n",
              "          for (const buffer of message.buffers) {\n",
              "            buffers.push(buffer);\n",
              "            downloaded += buffer.byteLength;\n",
              "            progress.value = downloaded;\n",
              "          }\n",
              "        }\n",
              "      }\n",
              "      const blob = new Blob(buffers, {type: 'application/binary'});\n",
              "      const a = document.createElement('a');\n",
              "      a.href = window.URL.createObjectURL(blob);\n",
              "      a.download = filename;\n",
              "      div.appendChild(a);\n",
              "      a.click();\n",
              "      div.remove();\n",
              "    }\n",
              "  "
            ]
          },
          "metadata": {}
        },
        {
          "output_type": "display_data",
          "data": {
            "text/plain": [
              "<IPython.core.display.Javascript object>"
            ],
            "application/javascript": [
              "download(\"download_07b2c377-eb38-4a1c-8431-152d3397fc77\", \"Ventas_totales_0.csv\", 16573)"
            ]
          },
          "metadata": {}
        }
      ]
    },
    {
      "cell_type": "markdown",
      "source": [
        "**Metodos de Sustitucion de Valores Nulos**\n",
        "\n"
      ],
      "metadata": {
        "id": "_6_kJuuqrcA6"
      }
    },
    {
      "cell_type": "code",
      "source": [
        "#Realizamos una copia del dataframe\n",
        "data2=data1.copy()"
      ],
      "metadata": {
        "id": "a8YOaDKcrZ91"
      },
      "execution_count": null,
      "outputs": []
    },
    {
      "cell_type": "markdown",
      "source": [
        "1"
      ],
      "metadata": {
        "id": "fLF2cY_Osprp"
      }
    },
    {
      "cell_type": "code",
      "source": [
        "#Primer método de sustitución de valores nulos\n",
        "#Sustituir valores nulos con promedio o media\n",
        "data2[\"salon_ventas\"]=data2[\"salon_ventas\"].fillna(round(data1[\"salon_ventas\"].mean(),1))"
      ],
      "metadata": {
        "id": "XMicAJ5Nrt5u"
      },
      "execution_count": null,
      "outputs": []
    },
    {
      "cell_type": "code",
      "source": [
        "#Corroboramos valores nulos\n",
        "valores_nulos=data2.isnull().sum()\n",
        "valores_nulos"
      ],
      "metadata": {
        "id": "PRs_Y0AKsRHx"
      },
      "execution_count": null,
      "outputs": []
    },
    {
      "cell_type": "code",
      "source": [
        "#Convertir DataFrame a CSV\n",
        "data2.to_csv(\"Ventas_totales_1.csv\")"
      ],
      "metadata": {
        "id": "onh-n9K2xp9a"
      },
      "execution_count": null,
      "outputs": []
    },
    {
      "cell_type": "code",
      "source": [
        "#Descargar archivo filtrado a CSv\n",
        "from google.colab import files\n",
        "\n",
        "files.download(\"Ventas_totales_1.csv\")"
      ],
      "metadata": {
        "id": "vQnDk_0Jx8V-"
      },
      "execution_count": null,
      "outputs": []
    },
    {
      "cell_type": "markdown",
      "source": [
        "2"
      ],
      "metadata": {
        "id": "MgevjKeisrVF"
      }
    },
    {
      "cell_type": "code",
      "source": [
        "#Segundo método de sustitución de valores nulos\n",
        "#Sustituir valores nulos con mediana\n",
        "data2[\"tarjetas_debito\"]=data2[\"tarjetas_debito\"].fillna(round(data1[\"tarjetas_debito\"].median(),1))\n",
        "data2"
      ],
      "metadata": {
        "id": "8_gmYIY5sSAW"
      },
      "execution_count": null,
      "outputs": []
    },
    {
      "cell_type": "code",
      "source": [
        "#Corroboramos valores nulos\n",
        "valores_nulos=data2.isnull().sum()\n",
        "valores_nulos"
      ],
      "metadata": {
        "colab": {
          "base_uri": "https://localhost:8080/"
        },
        "id": "bFx1oxhNsUzV",
        "outputId": "b969cfef-713a-4a86-9150-fe26128e5fca"
      },
      "execution_count": null,
      "outputs": [
        {
          "output_type": "execute_result",
          "data": {
            "text/plain": [
              "indice_tiempo                           0\n",
              "ventas_precios_corrientes               0\n",
              "ventas_precios_constantes               0\n",
              "ventas_totales_canal_venta              0\n",
              "salon_ventas                            0\n",
              "canales_on_line                         0\n",
              "ventas_totales_medio_pago               0\n",
              "efectivo                                0\n",
              "tarjetas_debito                         0\n",
              "tarjetas_credito                        7\n",
              "otros_medios                            1\n",
              "subtotal_ventas_alimentos_bebidas      10\n",
              "bebidas                                 1\n",
              "almacen                                 2\n",
              "panaderia                               1\n",
              "lacteos                                 1\n",
              "carnes                                  1\n",
              "verduleria_fruteria                     1\n",
              "alimentos_preparados_rotiseria          1\n",
              "indumentaria_calzado_textiles_hogar     2\n",
              "electronicos_articulos_hogar            3\n",
              "otros                                   4\n",
              "dtype: int64"
            ]
          },
          "metadata": {},
          "execution_count": 27
        }
      ]
    },
    {
      "cell_type": "code",
      "source": [
        "#Convertir DataFrame a CSV\n",
        "data2.to_csv(\"Ventas_totales_2.csv\")"
      ],
      "metadata": {
        "id": "nIdAg8vyxq8v"
      },
      "execution_count": null,
      "outputs": []
    },
    {
      "cell_type": "code",
      "source": [
        "#Descargar archivo filtrado a CSv\n",
        "from google.colab import files\n",
        "\n",
        "files.download(\"Ventas_totales_2.csv\")"
      ],
      "metadata": {
        "colab": {
          "base_uri": "https://localhost:8080/",
          "height": 17
        },
        "id": "E8ZdRfUdx9VM",
        "outputId": "6871c2c5-bc3d-4c67-d962-4ba96cc2949e"
      },
      "execution_count": null,
      "outputs": [
        {
          "output_type": "display_data",
          "data": {
            "text/plain": [
              "<IPython.core.display.Javascript object>"
            ],
            "application/javascript": [
              "\n",
              "    async function download(id, filename, size) {\n",
              "      if (!google.colab.kernel.accessAllowed) {\n",
              "        return;\n",
              "      }\n",
              "      const div = document.createElement('div');\n",
              "      const label = document.createElement('label');\n",
              "      label.textContent = `Downloading \"${filename}\": `;\n",
              "      div.appendChild(label);\n",
              "      const progress = document.createElement('progress');\n",
              "      progress.max = size;\n",
              "      div.appendChild(progress);\n",
              "      document.body.appendChild(div);\n",
              "\n",
              "      const buffers = [];\n",
              "      let downloaded = 0;\n",
              "\n",
              "      const channel = await google.colab.kernel.comms.open(id);\n",
              "      // Send a message to notify the kernel that we're ready.\n",
              "      channel.send({})\n",
              "\n",
              "      for await (const message of channel.messages) {\n",
              "        // Send a message to notify the kernel that we're ready.\n",
              "        channel.send({})\n",
              "        if (message.buffers) {\n",
              "          for (const buffer of message.buffers) {\n",
              "            buffers.push(buffer);\n",
              "            downloaded += buffer.byteLength;\n",
              "            progress.value = downloaded;\n",
              "          }\n",
              "        }\n",
              "      }\n",
              "      const blob = new Blob(buffers, {type: 'application/binary'});\n",
              "      const a = document.createElement('a');\n",
              "      a.href = window.URL.createObjectURL(blob);\n",
              "      a.download = filename;\n",
              "      div.appendChild(a);\n",
              "      a.click();\n",
              "      div.remove();\n",
              "    }\n",
              "  "
            ]
          },
          "metadata": {}
        },
        {
          "output_type": "display_data",
          "data": {
            "text/plain": [
              "<IPython.core.display.Javascript object>"
            ],
            "application/javascript": [
              "download(\"download_6b8b87ec-8850-4696-b696-0449e6a8a4fd\", \"Ventas_totales_2.csv\", 16643)"
            ]
          },
          "metadata": {}
        }
      ]
    },
    {
      "cell_type": "markdown",
      "source": [
        "3"
      ],
      "metadata": {
        "id": "OfoNJMfxssxY"
      }
    },
    {
      "cell_type": "code",
      "source": [
        "#Tercer método de sustitución de valores nulos\n",
        "#Sustituir valores nulos por un valor numérico en  concreto \n",
        "data2[\"tarjetas_credito\"]= data2[\"tarjetas_credito\"].fillna(10) \n",
        "data2"
      ],
      "metadata": {
        "id": "jqL2TtbXsYUj"
      },
      "execution_count": null,
      "outputs": []
    },
    {
      "cell_type": "code",
      "source": [
        "#Corroboramos valores nulos\n",
        "valores_nulos=data2.isnull().sum()\n",
        "valores_nulos"
      ],
      "metadata": {
        "colab": {
          "base_uri": "https://localhost:8080/"
        },
        "id": "GqfyikcpscrG",
        "outputId": "1c2db817-fdee-4fc5-9299-1aebb08ecdff"
      },
      "execution_count": null,
      "outputs": [
        {
          "output_type": "execute_result",
          "data": {
            "text/plain": [
              "indice_tiempo                           0\n",
              "ventas_precios_corrientes               0\n",
              "ventas_precios_constantes               0\n",
              "ventas_totales_canal_venta              0\n",
              "salon_ventas                            0\n",
              "canales_on_line                         0\n",
              "ventas_totales_medio_pago               0\n",
              "efectivo                                0\n",
              "tarjetas_debito                         0\n",
              "tarjetas_credito                        0\n",
              "otros_medios                            1\n",
              "subtotal_ventas_alimentos_bebidas      10\n",
              "bebidas                                 1\n",
              "almacen                                 2\n",
              "panaderia                               1\n",
              "lacteos                                 1\n",
              "carnes                                  1\n",
              "verduleria_fruteria                     1\n",
              "alimentos_preparados_rotiseria          1\n",
              "indumentaria_calzado_textiles_hogar     2\n",
              "electronicos_articulos_hogar            3\n",
              "otros                                   4\n",
              "dtype: int64"
            ]
          },
          "metadata": {},
          "execution_count": 31
        }
      ]
    },
    {
      "cell_type": "code",
      "source": [
        "#Convertir DataFrame a CSV\n",
        "data2.to_csv(\"Ventas_totales_3.csv\")"
      ],
      "metadata": {
        "id": "ZNKEG-ANxsCI"
      },
      "execution_count": null,
      "outputs": []
    },
    {
      "cell_type": "code",
      "source": [
        "#Descargar archivo filtrado a CSv\n",
        "from google.colab import files\n",
        "\n",
        "files.download(\"Ventas_totales_3.csv\")"
      ],
      "metadata": {
        "colab": {
          "base_uri": "https://localhost:8080/",
          "height": 17
        },
        "id": "IFZwrJ11x-JK",
        "outputId": "88ffdbf8-4086-4b9b-bfda-9109c0b343d0"
      },
      "execution_count": null,
      "outputs": [
        {
          "output_type": "display_data",
          "data": {
            "text/plain": [
              "<IPython.core.display.Javascript object>"
            ],
            "application/javascript": [
              "\n",
              "    async function download(id, filename, size) {\n",
              "      if (!google.colab.kernel.accessAllowed) {\n",
              "        return;\n",
              "      }\n",
              "      const div = document.createElement('div');\n",
              "      const label = document.createElement('label');\n",
              "      label.textContent = `Downloading \"${filename}\": `;\n",
              "      div.appendChild(label);\n",
              "      const progress = document.createElement('progress');\n",
              "      progress.max = size;\n",
              "      div.appendChild(progress);\n",
              "      document.body.appendChild(div);\n",
              "\n",
              "      const buffers = [];\n",
              "      let downloaded = 0;\n",
              "\n",
              "      const channel = await google.colab.kernel.comms.open(id);\n",
              "      // Send a message to notify the kernel that we're ready.\n",
              "      channel.send({})\n",
              "\n",
              "      for await (const message of channel.messages) {\n",
              "        // Send a message to notify the kernel that we're ready.\n",
              "        channel.send({})\n",
              "        if (message.buffers) {\n",
              "          for (const buffer of message.buffers) {\n",
              "            buffers.push(buffer);\n",
              "            downloaded += buffer.byteLength;\n",
              "            progress.value = downloaded;\n",
              "          }\n",
              "        }\n",
              "      }\n",
              "      const blob = new Blob(buffers, {type: 'application/binary'});\n",
              "      const a = document.createElement('a');\n",
              "      a.href = window.URL.createObjectURL(blob);\n",
              "      a.download = filename;\n",
              "      div.appendChild(a);\n",
              "      a.click();\n",
              "      div.remove();\n",
              "    }\n",
              "  "
            ]
          },
          "metadata": {}
        },
        {
          "output_type": "display_data",
          "data": {
            "text/plain": [
              "<IPython.core.display.Javascript object>"
            ],
            "application/javascript": [
              "download(\"download_889ee4be-d8f9-4d53-89aa-deb37a652189\", \"Ventas_totales_3.csv\", 16671)"
            ]
          },
          "metadata": {}
        }
      ]
    },
    {
      "cell_type": "markdown",
      "source": [
        "4"
      ],
      "metadata": {
        "id": "t0DqTGN7suPr"
      }
    },
    {
      "cell_type": "code",
      "source": [
        "#Cuarto método de sustitución de valores nulos\n",
        "#Sustituir valores nulos por un string en  concreto \n",
        "data2[\"subtotal_ventas_alimentos_bebidas\"] =data2[\"subtotal_ventas_alimentos_bebidas\"].fillna(\"19601615\")"
      ],
      "metadata": {
        "id": "zSAo2dQ9sfOt"
      },
      "execution_count": null,
      "outputs": []
    },
    {
      "cell_type": "code",
      "source": [
        "#Corroboramos valores nulos\n",
        "valores_nulos=data2.isnull().sum()\n",
        "valores_nulos"
      ],
      "metadata": {
        "colab": {
          "base_uri": "https://localhost:8080/"
        },
        "id": "VjHILWF7siEX",
        "outputId": "2445d2af-90ab-48a4-9873-ae001faf9c83"
      },
      "execution_count": null,
      "outputs": [
        {
          "output_type": "execute_result",
          "data": {
            "text/plain": [
              "indice_tiempo                          0\n",
              "ventas_precios_corrientes              0\n",
              "ventas_precios_constantes              0\n",
              "ventas_totales_canal_venta             0\n",
              "salon_ventas                           0\n",
              "canales_on_line                        0\n",
              "ventas_totales_medio_pago              0\n",
              "efectivo                               0\n",
              "tarjetas_debito                        0\n",
              "tarjetas_credito                       0\n",
              "otros_medios                           1\n",
              "subtotal_ventas_alimentos_bebidas      0\n",
              "bebidas                                1\n",
              "almacen                                2\n",
              "panaderia                              1\n",
              "lacteos                                1\n",
              "carnes                                 1\n",
              "verduleria_fruteria                    1\n",
              "alimentos_preparados_rotiseria         1\n",
              "indumentaria_calzado_textiles_hogar    2\n",
              "electronicos_articulos_hogar           3\n",
              "otros                                  4\n",
              "dtype: int64"
            ]
          },
          "metadata": {},
          "execution_count": 35
        }
      ]
    },
    {
      "cell_type": "code",
      "source": [
        "#Convertir DataFrame a CSV\n",
        "data2.to_csv(\"Ventas_totales_4.csv\")"
      ],
      "metadata": {
        "id": "qx1MpLHVxs-x"
      },
      "execution_count": null,
      "outputs": []
    },
    {
      "cell_type": "code",
      "source": [
        "#Descargar archivo filtrado a CSv\n",
        "from google.colab import files\n",
        "\n",
        "files.download(\"Ventas_totales_4.csv\")"
      ],
      "metadata": {
        "colab": {
          "base_uri": "https://localhost:8080/",
          "height": 17
        },
        "id": "86e7-7Q1x-9m",
        "outputId": "4d5bf969-9456-4108-d345-c903331b2f30"
      },
      "execution_count": null,
      "outputs": [
        {
          "output_type": "display_data",
          "data": {
            "text/plain": [
              "<IPython.core.display.Javascript object>"
            ],
            "application/javascript": [
              "\n",
              "    async function download(id, filename, size) {\n",
              "      if (!google.colab.kernel.accessAllowed) {\n",
              "        return;\n",
              "      }\n",
              "      const div = document.createElement('div');\n",
              "      const label = document.createElement('label');\n",
              "      label.textContent = `Downloading \"${filename}\": `;\n",
              "      div.appendChild(label);\n",
              "      const progress = document.createElement('progress');\n",
              "      progress.max = size;\n",
              "      div.appendChild(progress);\n",
              "      document.body.appendChild(div);\n",
              "\n",
              "      const buffers = [];\n",
              "      let downloaded = 0;\n",
              "\n",
              "      const channel = await google.colab.kernel.comms.open(id);\n",
              "      // Send a message to notify the kernel that we're ready.\n",
              "      channel.send({})\n",
              "\n",
              "      for await (const message of channel.messages) {\n",
              "        // Send a message to notify the kernel that we're ready.\n",
              "        channel.send({})\n",
              "        if (message.buffers) {\n",
              "          for (const buffer of message.buffers) {\n",
              "            buffers.push(buffer);\n",
              "            downloaded += buffer.byteLength;\n",
              "            progress.value = downloaded;\n",
              "          }\n",
              "        }\n",
              "      }\n",
              "      const blob = new Blob(buffers, {type: 'application/binary'});\n",
              "      const a = document.createElement('a');\n",
              "      a.href = window.URL.createObjectURL(blob);\n",
              "      a.download = filename;\n",
              "      div.appendChild(a);\n",
              "      a.click();\n",
              "      div.remove();\n",
              "    }\n",
              "  "
            ]
          },
          "metadata": {}
        },
        {
          "output_type": "display_data",
          "data": {
            "text/plain": [
              "<IPython.core.display.Javascript object>"
            ],
            "application/javascript": [
              "download(\"download_eb3ba495-5ca0-419f-88a9-719394f6a54c\", \"Ventas_totales_4.csv\", 16751)"
            ]
          },
          "metadata": {}
        }
      ]
    },
    {
      "cell_type": "markdown",
      "source": [
        "5"
      ],
      "metadata": {
        "id": "es2DJyL3swXq"
      }
    },
    {
      "cell_type": "code",
      "source": [
        "#Quinto método de sustitución de valores nulos\n",
        "#Sustituir valores nulos por valores no nulos hacia adelante  \"forward fill\" (\"ffill\")\n",
        "#Filtro por columnas\n",
        "data2[\"otros\"] =data2[\"otros\"].fillna(method=\"ffill\")"
      ],
      "metadata": {
        "id": "k5jUoUSWsk1q"
      },
      "execution_count": null,
      "outputs": []
    },
    {
      "cell_type": "code",
      "source": [
        "#Corroboramos valores nulos\n",
        "valores_nulos=data2.isnull().sum()\n",
        "valores_nulos"
      ],
      "metadata": {
        "colab": {
          "base_uri": "https://localhost:8080/"
        },
        "id": "B2inIQd2szml",
        "outputId": "54afe95f-cee4-4213-bf95-2318c4987674"
      },
      "execution_count": null,
      "outputs": [
        {
          "output_type": "execute_result",
          "data": {
            "text/plain": [
              "indice_tiempo                          0\n",
              "ventas_precios_corrientes              0\n",
              "ventas_precios_constantes              0\n",
              "ventas_totales_canal_venta             0\n",
              "salon_ventas                           0\n",
              "canales_on_line                        0\n",
              "ventas_totales_medio_pago              0\n",
              "efectivo                               0\n",
              "tarjetas_debito                        0\n",
              "tarjetas_credito                       0\n",
              "otros_medios                           1\n",
              "subtotal_ventas_alimentos_bebidas      0\n",
              "bebidas                                1\n",
              "almacen                                2\n",
              "panaderia                              1\n",
              "lacteos                                1\n",
              "carnes                                 1\n",
              "verduleria_fruteria                    1\n",
              "alimentos_preparados_rotiseria         1\n",
              "indumentaria_calzado_textiles_hogar    2\n",
              "electronicos_articulos_hogar           3\n",
              "otros                                  0\n",
              "dtype: int64"
            ]
          },
          "metadata": {},
          "execution_count": 40
        }
      ]
    },
    {
      "cell_type": "code",
      "source": [
        "#Convertir DataFrame a CSV\n",
        "data2.to_csv(\"Ventas_totales_5.csv\")"
      ],
      "metadata": {
        "id": "4QDykJOgxt6J"
      },
      "execution_count": null,
      "outputs": []
    },
    {
      "cell_type": "code",
      "source": [
        "#Descargar archivo filtrado a CSv\n",
        "from google.colab import files\n",
        "\n",
        "files.download(\"Ventas_totales_5.csv\")"
      ],
      "metadata": {
        "colab": {
          "base_uri": "https://localhost:8080/",
          "height": 17
        },
        "id": "mnaiqWecyACU",
        "outputId": "ca3395b0-a449-41b6-b0c8-a9a6ca59f7f5"
      },
      "execution_count": null,
      "outputs": [
        {
          "output_type": "display_data",
          "data": {
            "text/plain": [
              "<IPython.core.display.Javascript object>"
            ],
            "application/javascript": [
              "\n",
              "    async function download(id, filename, size) {\n",
              "      if (!google.colab.kernel.accessAllowed) {\n",
              "        return;\n",
              "      }\n",
              "      const div = document.createElement('div');\n",
              "      const label = document.createElement('label');\n",
              "      label.textContent = `Downloading \"${filename}\": `;\n",
              "      div.appendChild(label);\n",
              "      const progress = document.createElement('progress');\n",
              "      progress.max = size;\n",
              "      div.appendChild(progress);\n",
              "      document.body.appendChild(div);\n",
              "\n",
              "      const buffers = [];\n",
              "      let downloaded = 0;\n",
              "\n",
              "      const channel = await google.colab.kernel.comms.open(id);\n",
              "      // Send a message to notify the kernel that we're ready.\n",
              "      channel.send({})\n",
              "\n",
              "      for await (const message of channel.messages) {\n",
              "        // Send a message to notify the kernel that we're ready.\n",
              "        channel.send({})\n",
              "        if (message.buffers) {\n",
              "          for (const buffer of message.buffers) {\n",
              "            buffers.push(buffer);\n",
              "            downloaded += buffer.byteLength;\n",
              "            progress.value = downloaded;\n",
              "          }\n",
              "        }\n",
              "      }\n",
              "      const blob = new Blob(buffers, {type: 'application/binary'});\n",
              "      const a = document.createElement('a');\n",
              "      a.href = window.URL.createObjectURL(blob);\n",
              "      a.download = filename;\n",
              "      div.appendChild(a);\n",
              "      a.click();\n",
              "      div.remove();\n",
              "    }\n",
              "  "
            ]
          },
          "metadata": {}
        },
        {
          "output_type": "display_data",
          "data": {
            "text/plain": [
              "<IPython.core.display.Javascript object>"
            ],
            "application/javascript": [
              "download(\"download_be8a2d65-8a88-4f14-847d-b35d72497225\", \"Ventas_totales_5.csv\", 16795)"
            ]
          },
          "metadata": {}
        }
      ]
    },
    {
      "cell_type": "markdown",
      "source": [
        "6"
      ],
      "metadata": {
        "id": "PnbBtwgCs3A2"
      }
    },
    {
      "cell_type": "code",
      "source": [
        "#Sexto método de sustitución de valores nulos\n",
        "#Sustituir valores nulos por valores no nulos hacia atrás backward fill\" (\"bfill\")\n",
        "#Filtro por columnas\n",
        "data2[\"electronicos_articulos_hogar\"] =data2[\"electronicos_articulos_hogar\"].fillna(method=\"bfill\") "
      ],
      "metadata": {
        "id": "fO_72nlDs0Zq"
      },
      "execution_count": null,
      "outputs": []
    },
    {
      "cell_type": "code",
      "source": [
        "#Corroboramos valores nulos\n",
        "valores_nulos=data2.isnull().sum()\n",
        "valores_nulos"
      ],
      "metadata": {
        "colab": {
          "base_uri": "https://localhost:8080/"
        },
        "id": "9wK9NXIKs7X9",
        "outputId": "669d15ba-8f2d-4910-e44b-f707b2f5b237"
      },
      "execution_count": null,
      "outputs": [
        {
          "output_type": "execute_result",
          "data": {
            "text/plain": [
              "indice_tiempo                          0\n",
              "ventas_precios_corrientes              0\n",
              "ventas_precios_constantes              0\n",
              "ventas_totales_canal_venta             0\n",
              "salon_ventas                           0\n",
              "canales_on_line                        0\n",
              "ventas_totales_medio_pago              0\n",
              "efectivo                               0\n",
              "tarjetas_debito                        0\n",
              "tarjetas_credito                       0\n",
              "otros_medios                           1\n",
              "subtotal_ventas_alimentos_bebidas      0\n",
              "bebidas                                1\n",
              "almacen                                2\n",
              "panaderia                              1\n",
              "lacteos                                1\n",
              "carnes                                 1\n",
              "verduleria_fruteria                    1\n",
              "alimentos_preparados_rotiseria         1\n",
              "indumentaria_calzado_textiles_hogar    2\n",
              "electronicos_articulos_hogar           0\n",
              "otros                                  0\n",
              "dtype: int64"
            ]
          },
          "metadata": {},
          "execution_count": 45
        }
      ]
    },
    {
      "cell_type": "code",
      "source": [
        "#Convertir DataFrame a CSV\n",
        "data2.to_csv(\"Ventas_totales_6.csv\")"
      ],
      "metadata": {
        "id": "dfkxL7tDxuvl"
      },
      "execution_count": null,
      "outputs": []
    },
    {
      "cell_type": "code",
      "source": [
        "#Descargar archivo filtrado a CSv\n",
        "from google.colab import files\n",
        "\n",
        "files.download(\"Ventas_totales_6.csv\")"
      ],
      "metadata": {
        "colab": {
          "base_uri": "https://localhost:8080/",
          "height": 17
        },
        "id": "mJ97tTaXyA4c",
        "outputId": "ec0a2482-b7da-47df-f304-4ab7ce6c1b49"
      },
      "execution_count": null,
      "outputs": [
        {
          "output_type": "display_data",
          "data": {
            "text/plain": [
              "<IPython.core.display.Javascript object>"
            ],
            "application/javascript": [
              "\n",
              "    async function download(id, filename, size) {\n",
              "      if (!google.colab.kernel.accessAllowed) {\n",
              "        return;\n",
              "      }\n",
              "      const div = document.createElement('div');\n",
              "      const label = document.createElement('label');\n",
              "      label.textContent = `Downloading \"${filename}\": `;\n",
              "      div.appendChild(label);\n",
              "      const progress = document.createElement('progress');\n",
              "      progress.max = size;\n",
              "      div.appendChild(progress);\n",
              "      document.body.appendChild(div);\n",
              "\n",
              "      const buffers = [];\n",
              "      let downloaded = 0;\n",
              "\n",
              "      const channel = await google.colab.kernel.comms.open(id);\n",
              "      // Send a message to notify the kernel that we're ready.\n",
              "      channel.send({})\n",
              "\n",
              "      for await (const message of channel.messages) {\n",
              "        // Send a message to notify the kernel that we're ready.\n",
              "        channel.send({})\n",
              "        if (message.buffers) {\n",
              "          for (const buffer of message.buffers) {\n",
              "            buffers.push(buffer);\n",
              "            downloaded += buffer.byteLength;\n",
              "            progress.value = downloaded;\n",
              "          }\n",
              "        }\n",
              "      }\n",
              "      const blob = new Blob(buffers, {type: 'application/binary'});\n",
              "      const a = document.createElement('a');\n",
              "      a.href = window.URL.createObjectURL(blob);\n",
              "      a.download = filename;\n",
              "      div.appendChild(a);\n",
              "      a.click();\n",
              "      div.remove();\n",
              "    }\n",
              "  "
            ]
          },
          "metadata": {}
        },
        {
          "output_type": "display_data",
          "data": {
            "text/plain": [
              "<IPython.core.display.Javascript object>"
            ],
            "application/javascript": [
              "download(\"download_b96f0979-3a47-43b8-a2dd-4737ec0233e3\", \"Ventas_totales_6.csv\", 16827)"
            ]
          },
          "metadata": {}
        }
      ]
    },
    {
      "cell_type": "markdown",
      "source": [
        "\"bfill\""
      ],
      "metadata": {
        "id": "WTeGtwFutDqW"
      }
    },
    {
      "cell_type": "code",
      "source": [
        "#Sustituir valores nulos por valores no nulos hacia atrás backward fill\" (\"bfill\")\n",
        "data2[\"indumentaria_calzado_textiles_hogar\"] =data2[\"indumentaria_calzado_textiles_hogar\"].fillna(method=\"bfill\") "
      ],
      "metadata": {
        "id": "nuQ-WhbRtC0s"
      },
      "execution_count": null,
      "outputs": []
    },
    {
      "cell_type": "code",
      "source": [
        "#Corroboramos valores nulos\n",
        "valores_nulos=data2.isnull().sum()\n",
        "valores_nulos"
      ],
      "metadata": {
        "colab": {
          "base_uri": "https://localhost:8080/"
        },
        "id": "zM-5zI-btE2X",
        "outputId": "8f80a3f8-d905-4643-bf80-99b2f93eabd0"
      },
      "execution_count": null,
      "outputs": [
        {
          "output_type": "execute_result",
          "data": {
            "text/plain": [
              "indice_tiempo                          0\n",
              "ventas_precios_corrientes              0\n",
              "ventas_precios_constantes              0\n",
              "ventas_totales_canal_venta             0\n",
              "salon_ventas                           0\n",
              "canales_on_line                        0\n",
              "ventas_totales_medio_pago              0\n",
              "efectivo                               0\n",
              "tarjetas_debito                        0\n",
              "tarjetas_credito                       0\n",
              "otros_medios                           1\n",
              "subtotal_ventas_alimentos_bebidas      0\n",
              "bebidas                                1\n",
              "almacen                                2\n",
              "panaderia                              1\n",
              "lacteos                                1\n",
              "carnes                                 1\n",
              "verduleria_fruteria                    1\n",
              "alimentos_preparados_rotiseria         1\n",
              "indumentaria_calzado_textiles_hogar    0\n",
              "electronicos_articulos_hogar           0\n",
              "otros                                  0\n",
              "dtype: int64"
            ]
          },
          "metadata": {},
          "execution_count": 49
        }
      ]
    },
    {
      "cell_type": "code",
      "source": [
        "#Convertir DataFrame a CSV\n",
        "data2.to_csv(\"Ventas_totales_b.csv\")"
      ],
      "metadata": {
        "id": "LD37s8dRxva0"
      },
      "execution_count": null,
      "outputs": []
    },
    {
      "cell_type": "code",
      "source": [
        "#Descargar archivo filtrado a CSv\n",
        "from google.colab import files\n",
        "\n",
        "files.download(\"Ventas_totales_b.csv\")"
      ],
      "metadata": {
        "colab": {
          "base_uri": "https://localhost:8080/",
          "height": 17
        },
        "id": "tr3RXAjmyBoX",
        "outputId": "a6528098-9a0e-4871-d08b-07eae41f9a87"
      },
      "execution_count": null,
      "outputs": [
        {
          "output_type": "display_data",
          "data": {
            "text/plain": [
              "<IPython.core.display.Javascript object>"
            ],
            "application/javascript": [
              "\n",
              "    async function download(id, filename, size) {\n",
              "      if (!google.colab.kernel.accessAllowed) {\n",
              "        return;\n",
              "      }\n",
              "      const div = document.createElement('div');\n",
              "      const label = document.createElement('label');\n",
              "      label.textContent = `Downloading \"${filename}\": `;\n",
              "      div.appendChild(label);\n",
              "      const progress = document.createElement('progress');\n",
              "      progress.max = size;\n",
              "      div.appendChild(progress);\n",
              "      document.body.appendChild(div);\n",
              "\n",
              "      const buffers = [];\n",
              "      let downloaded = 0;\n",
              "\n",
              "      const channel = await google.colab.kernel.comms.open(id);\n",
              "      // Send a message to notify the kernel that we're ready.\n",
              "      channel.send({})\n",
              "\n",
              "      for await (const message of channel.messages) {\n",
              "        // Send a message to notify the kernel that we're ready.\n",
              "        channel.send({})\n",
              "        if (message.buffers) {\n",
              "          for (const buffer of message.buffers) {\n",
              "            buffers.push(buffer);\n",
              "            downloaded += buffer.byteLength;\n",
              "            progress.value = downloaded;\n",
              "          }\n",
              "        }\n",
              "      }\n",
              "      const blob = new Blob(buffers, {type: 'application/binary'});\n",
              "      const a = document.createElement('a');\n",
              "      a.href = window.URL.createObjectURL(blob);\n",
              "      a.download = filename;\n",
              "      div.appendChild(a);\n",
              "      a.click();\n",
              "      div.remove();\n",
              "    }\n",
              "  "
            ]
          },
          "metadata": {}
        },
        {
          "output_type": "display_data",
          "data": {
            "text/plain": [
              "<IPython.core.display.Javascript object>"
            ],
            "application/javascript": [
              "download(\"download_06df9a4c-de78-46bd-b8e1-b89bd78bda4f\", \"Ventas_totales_b.csv\", 16849)"
            ]
          },
          "metadata": {}
        }
      ]
    },
    {
      "cell_type": "markdown",
      "source": [
        "\"ffill\""
      ],
      "metadata": {
        "id": "6V768D3wtIIH"
      }
    },
    {
      "cell_type": "code",
      "source": [
        "#Sustituir valores nulos por valores no nulos hacia adelante forward fill\" (\"ffill\")\n",
        "#Filtro por columnas\n",
        "data2[\"almacen\"] =data2[\"almacen\"].fillna(method=\"ffill\") "
      ],
      "metadata": {
        "id": "zjPbL1MstJDJ"
      },
      "execution_count": null,
      "outputs": []
    },
    {
      "cell_type": "code",
      "source": [
        "#Corroboramos valores nulos\n",
        "valores_nulos=data2.isnull().sum()\n",
        "valores_nulos"
      ],
      "metadata": {
        "colab": {
          "base_uri": "https://localhost:8080/"
        },
        "id": "ArpcsitetMs7",
        "outputId": "e9fe13db-82e2-4991-def7-a627ba7dd5ae"
      },
      "execution_count": null,
      "outputs": [
        {
          "output_type": "execute_result",
          "data": {
            "text/plain": [
              "indice_tiempo                          0\n",
              "ventas_precios_corrientes              0\n",
              "ventas_precios_constantes              0\n",
              "ventas_totales_canal_venta             0\n",
              "salon_ventas                           0\n",
              "canales_on_line                        0\n",
              "ventas_totales_medio_pago              0\n",
              "efectivo                               0\n",
              "tarjetas_debito                        0\n",
              "tarjetas_credito                       0\n",
              "otros_medios                           1\n",
              "subtotal_ventas_alimentos_bebidas      0\n",
              "bebidas                                1\n",
              "almacen                                0\n",
              "panaderia                              1\n",
              "lacteos                                1\n",
              "carnes                                 1\n",
              "verduleria_fruteria                    1\n",
              "alimentos_preparados_rotiseria         1\n",
              "indumentaria_calzado_textiles_hogar    0\n",
              "electronicos_articulos_hogar           0\n",
              "otros                                  0\n",
              "dtype: int64"
            ]
          },
          "metadata": {},
          "execution_count": 53
        }
      ]
    },
    {
      "cell_type": "code",
      "source": [
        "#Corroboramos valores nulos en todo el dataframe\n",
        "valores_nulos=data2.isnull().sum().sum()\n",
        "valores_nulos"
      ],
      "metadata": {
        "colab": {
          "base_uri": "https://localhost:8080/"
        },
        "id": "eU8CHWQttPRp",
        "outputId": "566e67f8-8eff-42c2-923a-3c921667410c"
      },
      "execution_count": null,
      "outputs": [
        {
          "output_type": "execute_result",
          "data": {
            "text/plain": [
              "7"
            ]
          },
          "metadata": {},
          "execution_count": 54
        }
      ]
    },
    {
      "cell_type": "code",
      "source": [
        "#Convertir DataFrame a CSV\n",
        "data2.to_csv(\"Ventas_totales_f.csv\")"
      ],
      "metadata": {
        "id": "siISd3Hzxw7K"
      },
      "execution_count": null,
      "outputs": []
    },
    {
      "cell_type": "code",
      "source": [
        "#Descargar archivo filtrado a CSv\n",
        "from google.colab import files\n",
        "\n",
        "files.download(\"Ventas_totales_f.csv\")"
      ],
      "metadata": {
        "colab": {
          "base_uri": "https://localhost:8080/",
          "height": 17
        },
        "id": "yMciKTFcyCmR",
        "outputId": "2709d3ea-ac50-49db-a63a-a57cc15ce730"
      },
      "execution_count": null,
      "outputs": [
        {
          "output_type": "display_data",
          "data": {
            "text/plain": [
              "<IPython.core.display.Javascript object>"
            ],
            "application/javascript": [
              "\n",
              "    async function download(id, filename, size) {\n",
              "      if (!google.colab.kernel.accessAllowed) {\n",
              "        return;\n",
              "      }\n",
              "      const div = document.createElement('div');\n",
              "      const label = document.createElement('label');\n",
              "      label.textContent = `Downloading \"${filename}\": `;\n",
              "      div.appendChild(label);\n",
              "      const progress = document.createElement('progress');\n",
              "      progress.max = size;\n",
              "      div.appendChild(progress);\n",
              "      document.body.appendChild(div);\n",
              "\n",
              "      const buffers = [];\n",
              "      let downloaded = 0;\n",
              "\n",
              "      const channel = await google.colab.kernel.comms.open(id);\n",
              "      // Send a message to notify the kernel that we're ready.\n",
              "      channel.send({})\n",
              "\n",
              "      for await (const message of channel.messages) {\n",
              "        // Send a message to notify the kernel that we're ready.\n",
              "        channel.send({})\n",
              "        if (message.buffers) {\n",
              "          for (const buffer of message.buffers) {\n",
              "            buffers.push(buffer);\n",
              "            downloaded += buffer.byteLength;\n",
              "            progress.value = downloaded;\n",
              "          }\n",
              "        }\n",
              "      }\n",
              "      const blob = new Blob(buffers, {type: 'application/binary'});\n",
              "      const a = document.createElement('a');\n",
              "      a.href = window.URL.createObjectURL(blob);\n",
              "      a.download = filename;\n",
              "      div.appendChild(a);\n",
              "      a.click();\n",
              "      div.remove();\n",
              "    }\n",
              "  "
            ]
          },
          "metadata": {}
        },
        {
          "output_type": "display_data",
          "data": {
            "text/plain": [
              "<IPython.core.display.Javascript object>"
            ],
            "application/javascript": [
              "download(\"download_e1f4e87e-8814-42d1-af29-fe5d171e53d0\", \"Ventas_totales_f.csv\", 16871)"
            ]
          },
          "metadata": {}
        }
      ]
    },
    {
      "cell_type": "markdown",
      "source": [
        "Metodo de Eliminacion de Valores Nulos"
      ],
      "metadata": {
        "id": "qc3GOTyctSLs"
      }
    },
    {
      "cell_type": "code",
      "source": [
        "#Identificar valores nulos por columna\n",
        "valores_nulos=data2.isnull().sum()\n",
        "valores_nulos"
      ],
      "metadata": {
        "colab": {
          "base_uri": "https://localhost:8080/"
        },
        "id": "erebJlrztShB",
        "outputId": "101ec851-42ee-4986-9169-694097a27104"
      },
      "execution_count": null,
      "outputs": [
        {
          "output_type": "execute_result",
          "data": {
            "text/plain": [
              "indice_tiempo                          0\n",
              "ventas_precios_corrientes              0\n",
              "ventas_precios_constantes              0\n",
              "ventas_totales_canal_venta             0\n",
              "salon_ventas                           0\n",
              "canales_on_line                        0\n",
              "ventas_totales_medio_pago              0\n",
              "efectivo                               0\n",
              "tarjetas_debito                        0\n",
              "tarjetas_credito                       0\n",
              "otros_medios                           1\n",
              "subtotal_ventas_alimentos_bebidas      0\n",
              "bebidas                                1\n",
              "almacen                                0\n",
              "panaderia                              1\n",
              "lacteos                                1\n",
              "carnes                                 1\n",
              "verduleria_fruteria                    1\n",
              "alimentos_preparados_rotiseria         1\n",
              "indumentaria_calzado_textiles_hogar    0\n",
              "electronicos_articulos_hogar           0\n",
              "otros                                  0\n",
              "dtype: int64"
            ]
          },
          "metadata": {},
          "execution_count": 57
        }
      ]
    },
    {
      "cell_type": "code",
      "source": [
        "#Realizamos una copia del dataframe\n",
        "data3=data1.copy()"
      ],
      "metadata": {
        "id": "pPMCTaeQtcyp"
      },
      "execution_count": null,
      "outputs": []
    },
    {
      "cell_type": "code",
      "source": [
        "#Eliminamos filas con nulos\n",
        "data3= data1.dropna(0)\n",
        "data3"
      ],
      "metadata": {
        "id": "ZhfUQzIstgjB"
      },
      "execution_count": null,
      "outputs": []
    },
    {
      "cell_type": "code",
      "source": [
        "#Identificar valores nulos por columna\n",
        "valores_nulos=data3.isnull().sum()\n",
        "valores_nulos"
      ],
      "metadata": {
        "id": "GebK-_QmthQg"
      },
      "execution_count": null,
      "outputs": []
    },
    {
      "cell_type": "code",
      "source": [
        "#Convertir DataFrame a CSV\n",
        "data3.to_csv(\"Ventas_totales_elim.csv\")"
      ],
      "metadata": {
        "id": "5v-_RiwExzD6"
      },
      "execution_count": null,
      "outputs": []
    },
    {
      "cell_type": "code",
      "source": [
        "#Descargar archivo filtrado a CSv\n",
        "from google.colab import files\n",
        "\n",
        "files.download(\"Ventas_totales_elim.csv\")"
      ],
      "metadata": {
        "id": "r7DoVKLYyD1u"
      },
      "execution_count": null,
      "outputs": []
    },
    {
      "cell_type": "markdown",
      "source": [
        "Comparamos dataframe de SUSTITUCION vs el dataframe de ELIMINACION"
      ],
      "metadata": {
        "id": "Lo1ZibUitjZg"
      }
    },
    {
      "cell_type": "code",
      "source": [
        "data2.info()"
      ],
      "metadata": {
        "id": "4ao8Wc0mtjqr"
      },
      "execution_count": null,
      "outputs": []
    },
    {
      "cell_type": "code",
      "source": [
        "data3.info()"
      ],
      "metadata": {
        "id": "13-lIt-itzJ3"
      },
      "execution_count": null,
      "outputs": []
    },
    {
      "cell_type": "markdown",
      "source": [
        "Convertir DataSet sin valores Nulos a CSV"
      ],
      "metadata": {
        "id": "2NJkCLJAt7g4"
      }
    },
    {
      "cell_type": "code",
      "source": [
        "#Convertir DataFrame a CSV\n",
        "data2.to_csv(\"Ventas_totales_final.csv\")"
      ],
      "metadata": {
        "id": "wOAIFtfvuDwO"
      },
      "execution_count": null,
      "outputs": []
    },
    {
      "cell_type": "code",
      "source": [
        "#Descargar archivo filtrado a CSv\n",
        "from google.colab import files\n",
        "\n",
        "files.download(\"Ventas_totales_final.csv\")"
      ],
      "metadata": {
        "id": "uYZW7mH3uEot"
      },
      "execution_count": null,
      "outputs": []
    }
  ]
}